{
 "cells": [
  {
   "cell_type": "code",
   "execution_count": 89,
   "metadata": {},
   "outputs": [],
   "source": [
    "import numpy as np \n",
    "import pandas as pd\n",
    "\n",
    "df = pd.read_csv(\"iris.data\")"
   ]
  },
  {
   "cell_type": "code",
   "execution_count": 90,
   "metadata": {},
   "outputs": [],
   "source": [
    "df.columns = [\n",
    "              'SepalLengthCm',\n",
    "              'SepalWidthCm',\n",
    "              'PetalLengthCm',\n",
    "              'PetalWidthCm',\n",
    "              'Species']"
   ]
  },
  {
   "cell_type": "code",
   "execution_count": null,
   "metadata": {},
   "outputs": [],
   "source": []
  },
  {
   "cell_type": "code",
   "execution_count": 91,
   "metadata": {},
   "outputs": [
    {
     "data": {
      "text/plain": [
       "SepalLengthCm    0\n",
       "SepalWidthCm     0\n",
       "PetalLengthCm    0\n",
       "PetalWidthCm     0\n",
       "Species          0\n",
       "dtype: int64"
      ]
     },
     "execution_count": 91,
     "metadata": {},
     "output_type": "execute_result"
    }
   ],
   "source": [
    "df.isnull().sum()"
   ]
  },
  {
   "cell_type": "code",
   "execution_count": 92,
   "metadata": {},
   "outputs": [
    {
     "name": "stdout",
     "output_type": "stream",
     "text": [
      "<class 'pandas.core.frame.DataFrame'>\n",
      "RangeIndex: 149 entries, 0 to 148\n",
      "Data columns (total 5 columns):\n",
      "SepalLengthCm    149 non-null float64\n",
      "SepalWidthCm     149 non-null float64\n",
      "PetalLengthCm    149 non-null float64\n",
      "PetalWidthCm     149 non-null float64\n",
      "Species          149 non-null object\n",
      "dtypes: float64(4), object(1)\n",
      "memory usage: 5.9+ KB\n"
     ]
    }
   ],
   "source": [
    "df.info()"
   ]
  },
  {
   "cell_type": "code",
   "execution_count": 97,
   "metadata": {},
   "outputs": [
    {
     "data": {
      "text/html": [
       "<div>\n",
       "<style scoped>\n",
       "    .dataframe tbody tr th:only-of-type {\n",
       "        vertical-align: middle;\n",
       "    }\n",
       "\n",
       "    .dataframe tbody tr th {\n",
       "        vertical-align: top;\n",
       "    }\n",
       "\n",
       "    .dataframe thead th {\n",
       "        text-align: right;\n",
       "    }\n",
       "</style>\n",
       "<table border=\"1\" class=\"dataframe\">\n",
       "  <thead>\n",
       "    <tr style=\"text-align: right;\">\n",
       "      <th></th>\n",
       "      <th>SepalLengthCm</th>\n",
       "      <th>SepalWidthCm</th>\n",
       "      <th>PetalLengthCm</th>\n",
       "      <th>PetalWidthCm</th>\n",
       "    </tr>\n",
       "  </thead>\n",
       "  <tbody>\n",
       "    <tr>\n",
       "      <th>count</th>\n",
       "      <td>149.000000</td>\n",
       "      <td>149.000000</td>\n",
       "      <td>149.000000</td>\n",
       "      <td>149.000000</td>\n",
       "    </tr>\n",
       "    <tr>\n",
       "      <th>mean</th>\n",
       "      <td>5.848322</td>\n",
       "      <td>3.051006</td>\n",
       "      <td>3.774497</td>\n",
       "      <td>1.205369</td>\n",
       "    </tr>\n",
       "    <tr>\n",
       "      <th>std</th>\n",
       "      <td>0.828594</td>\n",
       "      <td>0.433499</td>\n",
       "      <td>1.759652</td>\n",
       "      <td>0.761292</td>\n",
       "    </tr>\n",
       "    <tr>\n",
       "      <th>min</th>\n",
       "      <td>4.300000</td>\n",
       "      <td>2.000000</td>\n",
       "      <td>1.000000</td>\n",
       "      <td>0.100000</td>\n",
       "    </tr>\n",
       "    <tr>\n",
       "      <th>25%</th>\n",
       "      <td>5.100000</td>\n",
       "      <td>2.800000</td>\n",
       "      <td>1.600000</td>\n",
       "      <td>0.300000</td>\n",
       "    </tr>\n",
       "    <tr>\n",
       "      <th>50%</th>\n",
       "      <td>5.800000</td>\n",
       "      <td>3.000000</td>\n",
       "      <td>4.400000</td>\n",
       "      <td>1.300000</td>\n",
       "    </tr>\n",
       "    <tr>\n",
       "      <th>75%</th>\n",
       "      <td>6.400000</td>\n",
       "      <td>3.300000</td>\n",
       "      <td>5.100000</td>\n",
       "      <td>1.800000</td>\n",
       "    </tr>\n",
       "    <tr>\n",
       "      <th>max</th>\n",
       "      <td>7.900000</td>\n",
       "      <td>4.400000</td>\n",
       "      <td>6.900000</td>\n",
       "      <td>2.500000</td>\n",
       "    </tr>\n",
       "  </tbody>\n",
       "</table>\n",
       "</div>"
      ],
      "text/plain": [
       "       SepalLengthCm  SepalWidthCm  PetalLengthCm  PetalWidthCm\n",
       "count     149.000000    149.000000     149.000000    149.000000\n",
       "mean        5.848322      3.051006       3.774497      1.205369\n",
       "std         0.828594      0.433499       1.759652      0.761292\n",
       "min         4.300000      2.000000       1.000000      0.100000\n",
       "25%         5.100000      2.800000       1.600000      0.300000\n",
       "50%         5.800000      3.000000       4.400000      1.300000\n",
       "75%         6.400000      3.300000       5.100000      1.800000\n",
       "max         7.900000      4.400000       6.900000      2.500000"
      ]
     },
     "execution_count": 97,
     "metadata": {},
     "output_type": "execute_result"
    }
   ],
   "source": [
    "df.describe()"
   ]
  },
  {
   "cell_type": "code",
   "execution_count": 99,
   "metadata": {},
   "outputs": [],
   "source": [
    "\n",
    "from sklearn.preprocessing import LabelBinarizer\n",
    "species_lb = LabelBinarizer()\n",
    "Y = species_lb.fit_transform(df.Species.values)"
   ]
  },
  {
   "cell_type": "code",
   "execution_count": 101,
   "metadata": {},
   "outputs": [
    {
     "name": "stderr",
     "output_type": "stream",
     "text": [
      "/home/user/anaconda3/lib/python3.7/site-packages/ipykernel_launcher.py:3: FutureWarning: Method .as_matrix will be removed in a future version. Use .values instead.\n",
      "  This is separate from the ipykernel package so we can avoid doing imports until\n"
     ]
    }
   ],
   "source": [
    "from sklearn.preprocessing import normalize\n",
    "FEATURES = df.columns[0:4]\n",
    "X_data = df[FEATURES].as_matrix()\n",
    "X_data = normalize(X_data)"
   ]
  },
  {
   "cell_type": "code",
   "execution_count": 103,
   "metadata": {},
   "outputs": [
    {
     "data": {
      "text/plain": [
       "(45, 4)"
      ]
     },
     "execution_count": 103,
     "metadata": {},
     "output_type": "execute_result"
    }
   ],
   "source": [
    "from sklearn.model_selection import train_test_split\n",
    "X_train, X_test, y_train, y_test = train_test_split(X_data, Y, test_size=0.3, random_state=1)\n",
    "X_train.shape\n",
    "X_test.shape"
   ]
  },
  {
   "cell_type": "code",
   "execution_count": 104,
   "metadata": {},
   "outputs": [],
   "source": [
    "import tensorflow as tf\n",
    "\n",
    "# Parameters\n",
    "learning_rate = 0.01\n",
    "training_epochs = 100\n"
   ]
  },
  {
   "cell_type": "code",
   "execution_count": 105,
   "metadata": {},
   "outputs": [],
   "source": [
    "n_hidden_1 = 256 # 1st layer number of neurons\n",
    "n_hidden_2 = 128 # 1st layer number of neurons\n",
    "n_input = X_train.shape[1] # input shape (105, 4)\n",
    "n_classes = y_train.shape[1] # classes to predict"
   ]
  },
  {
   "cell_type": "code",
   "execution_count": 106,
   "metadata": {},
   "outputs": [],
   "source": [
    "X = tf.placeholder(\"float\", shape=[None, n_input])\n",
    "y = tf.placeholder(\"float\", shape=[None, n_classes])\n",
    "\n",
    "# Dictionary of Weights and Biases\n",
    "weights = {\n",
    "  'h1': tf.Variable(tf.random_normal([n_input, n_hidden_1])),\n",
    "  'h2': tf.Variable(tf.random_normal([n_hidden_1, n_hidden_2])),\n",
    "  'out': tf.Variable(tf.random_normal([n_hidden_2, n_classes]))\n",
    "}\n",
    "\n",
    "biases = {\n",
    "  'b1': tf.Variable(tf.random_normal([n_hidden_1])),\n",
    "  'b2': tf.Variable(tf.random_normal([n_hidden_2])),\n",
    "  'out': tf.Variable(tf.random_normal([n_classes]))\n",
    "}"
   ]
  },
  {
   "cell_type": "code",
   "execution_count": 107,
   "metadata": {},
   "outputs": [],
   "source": [
    "def forward_propagation(x):\n",
    "    # Hidden layer1\n",
    "    layer_1 = tf.add(tf.matmul(x, weights['h1']), biases['b1'])\n",
    "    layer_1 = tf.nn.relu(layer_1)\n",
    "    \n",
    "    layer_2 = tf.add(tf.matmul(layer_1, weights['h2']), biases['b2'])\n",
    "    layer_2 = tf.nn.relu(layer_2)\n",
    "\n",
    "    # Output fully connected layer\n",
    "    out_layer = tf.matmul(layer_2, weights['out']) + biases['out'] \n",
    "    return out_layer"
   ]
  },
  {
   "cell_type": "code",
   "execution_count": 108,
   "metadata": {},
   "outputs": [],
   "source": [
    "yhat = forward_propagation(X)\n",
    "ypredict = tf.argmax(yhat, axis=1)"
   ]
  },
  {
   "cell_type": "code",
   "execution_count": 109,
   "metadata": {},
   "outputs": [
    {
     "name": "stdout",
     "output_type": "stream",
     "text": [
      "WARNING:tensorflow:From <ipython-input-109-c6dd7f168979>:1: softmax_cross_entropy_with_logits (from tensorflow.python.ops.nn_ops) is deprecated and will be removed in a future version.\n",
      "Instructions for updating:\n",
      "\n",
      "Future major versions of TensorFlow will allow gradients to flow\n",
      "into the labels input on backprop by default.\n",
      "\n",
      "See `tf.nn.softmax_cross_entropy_with_logits_v2`.\n",
      "\n"
     ]
    }
   ],
   "source": [
    "cost = tf.reduce_mean(tf.nn.softmax_cross_entropy_with_logits(labels=y, logits=yhat))\n",
    "optimizer = tf.train.GradientDescentOptimizer(learning_rate)\n",
    "#optimizer = tf.train.AdamOptimizer(learning_rate=learning_rate)\n",
    "\n",
    "train_op = optimizer.minimize(cost)"
   ]
  },
  {
   "cell_type": "code",
   "execution_count": 110,
   "metadata": {},
   "outputs": [
    {
     "name": "stdout",
     "output_type": "stream",
     "text": [
      "Epoch = 1, train accuracy = 67.31%, test accuracy = 64.44%\n",
      "Epoch = 2, train accuracy = 96.15%, test accuracy = 97.78%\n",
      "Epoch = 3, train accuracy = 95.19%, test accuracy = 97.78%\n",
      "Epoch = 4, train accuracy = 96.15%, test accuracy = 97.78%\n",
      "Epoch = 5, train accuracy = 96.15%, test accuracy = 97.78%\n",
      "Epoch = 6, train accuracy = 96.15%, test accuracy = 97.78%\n",
      "Epoch = 7, train accuracy = 96.15%, test accuracy = 97.78%\n",
      "Epoch = 8, train accuracy = 96.15%, test accuracy = 97.78%\n",
      "Epoch = 9, train accuracy = 96.15%, test accuracy = 97.78%\n",
      "Epoch = 10, train accuracy = 96.15%, test accuracy = 97.78%\n",
      "Epoch = 11, train accuracy = 96.15%, test accuracy = 97.78%\n",
      "Epoch = 12, train accuracy = 96.15%, test accuracy = 97.78%\n",
      "Epoch = 13, train accuracy = 96.15%, test accuracy = 97.78%\n",
      "Epoch = 14, train accuracy = 96.15%, test accuracy = 97.78%\n",
      "Epoch = 15, train accuracy = 96.15%, test accuracy = 97.78%\n",
      "Epoch = 16, train accuracy = 96.15%, test accuracy = 97.78%\n",
      "Epoch = 17, train accuracy = 96.15%, test accuracy = 97.78%\n",
      "Epoch = 18, train accuracy = 96.15%, test accuracy = 97.78%\n",
      "Epoch = 19, train accuracy = 96.15%, test accuracy = 97.78%\n",
      "Epoch = 20, train accuracy = 96.15%, test accuracy = 97.78%\n",
      "Epoch = 21, train accuracy = 96.15%, test accuracy = 97.78%\n",
      "Epoch = 22, train accuracy = 96.15%, test accuracy = 97.78%\n",
      "Epoch = 23, train accuracy = 96.15%, test accuracy = 97.78%\n",
      "Epoch = 24, train accuracy = 96.15%, test accuracy = 97.78%\n",
      "Epoch = 25, train accuracy = 96.15%, test accuracy = 97.78%\n",
      "Epoch = 26, train accuracy = 96.15%, test accuracy = 97.78%\n",
      "Epoch = 27, train accuracy = 96.15%, test accuracy = 97.78%\n",
      "Epoch = 28, train accuracy = 96.15%, test accuracy = 97.78%\n",
      "Epoch = 29, train accuracy = 95.19%, test accuracy = 97.78%\n",
      "Epoch = 30, train accuracy = 96.15%, test accuracy = 97.78%\n",
      "Epoch = 31, train accuracy = 96.15%, test accuracy = 97.78%\n",
      "Epoch = 32, train accuracy = 96.15%, test accuracy = 97.78%\n",
      "Epoch = 33, train accuracy = 96.15%, test accuracy = 97.78%\n",
      "Epoch = 34, train accuracy = 96.15%, test accuracy = 97.78%\n",
      "Epoch = 35, train accuracy = 96.15%, test accuracy = 97.78%\n",
      "Epoch = 36, train accuracy = 96.15%, test accuracy = 97.78%\n",
      "Epoch = 37, train accuracy = 96.15%, test accuracy = 97.78%\n",
      "Epoch = 38, train accuracy = 95.19%, test accuracy = 97.78%\n",
      "Epoch = 39, train accuracy = 96.15%, test accuracy = 97.78%\n",
      "Epoch = 40, train accuracy = 96.15%, test accuracy = 97.78%\n",
      "Epoch = 41, train accuracy = 96.15%, test accuracy = 97.78%\n",
      "Epoch = 42, train accuracy = 95.19%, test accuracy = 97.78%\n",
      "Epoch = 43, train accuracy = 96.15%, test accuracy = 97.78%\n",
      "Epoch = 44, train accuracy = 96.15%, test accuracy = 97.78%\n",
      "Epoch = 45, train accuracy = 96.15%, test accuracy = 97.78%\n",
      "Epoch = 46, train accuracy = 96.15%, test accuracy = 97.78%\n",
      "Epoch = 47, train accuracy = 96.15%, test accuracy = 97.78%\n",
      "Epoch = 48, train accuracy = 96.15%, test accuracy = 97.78%\n",
      "Epoch = 49, train accuracy = 96.15%, test accuracy = 97.78%\n",
      "Epoch = 50, train accuracy = 96.15%, test accuracy = 97.78%\n",
      "Epoch = 51, train accuracy = 96.15%, test accuracy = 97.78%\n",
      "Epoch = 52, train accuracy = 95.19%, test accuracy = 97.78%\n",
      "Epoch = 53, train accuracy = 95.19%, test accuracy = 97.78%\n",
      "Epoch = 54, train accuracy = 96.15%, test accuracy = 97.78%\n",
      "Epoch = 55, train accuracy = 95.19%, test accuracy = 97.78%\n",
      "Epoch = 56, train accuracy = 96.15%, test accuracy = 97.78%\n",
      "Epoch = 57, train accuracy = 96.15%, test accuracy = 97.78%\n",
      "Epoch = 58, train accuracy = 96.15%, test accuracy = 97.78%\n",
      "Epoch = 59, train accuracy = 96.15%, test accuracy = 97.78%\n",
      "Epoch = 60, train accuracy = 95.19%, test accuracy = 97.78%\n",
      "Epoch = 61, train accuracy = 95.19%, test accuracy = 97.78%\n",
      "Epoch = 62, train accuracy = 95.19%, test accuracy = 97.78%\n",
      "Epoch = 63, train accuracy = 96.15%, test accuracy = 97.78%\n",
      "Epoch = 64, train accuracy = 95.19%, test accuracy = 97.78%\n",
      "Epoch = 65, train accuracy = 95.19%, test accuracy = 95.56%\n",
      "Epoch = 66, train accuracy = 95.19%, test accuracy = 95.56%\n",
      "Epoch = 67, train accuracy = 96.15%, test accuracy = 97.78%\n",
      "Epoch = 68, train accuracy = 95.19%, test accuracy = 97.78%\n",
      "Epoch = 69, train accuracy = 96.15%, test accuracy = 97.78%\n",
      "Epoch = 70, train accuracy = 95.19%, test accuracy = 97.78%\n",
      "Epoch = 71, train accuracy = 96.15%, test accuracy = 97.78%\n",
      "Epoch = 72, train accuracy = 95.19%, test accuracy = 95.56%\n",
      "Epoch = 73, train accuracy = 95.19%, test accuracy = 95.56%\n",
      "Epoch = 74, train accuracy = 95.19%, test accuracy = 95.56%\n",
      "Epoch = 75, train accuracy = 95.19%, test accuracy = 97.78%\n",
      "Epoch = 76, train accuracy = 96.15%, test accuracy = 97.78%\n",
      "Epoch = 77, train accuracy = 95.19%, test accuracy = 97.78%\n",
      "Epoch = 78, train accuracy = 96.15%, test accuracy = 97.78%\n",
      "Epoch = 79, train accuracy = 96.15%, test accuracy = 97.78%\n",
      "Epoch = 80, train accuracy = 96.15%, test accuracy = 97.78%\n",
      "Epoch = 81, train accuracy = 96.15%, test accuracy = 97.78%\n",
      "Epoch = 82, train accuracy = 96.15%, test accuracy = 97.78%\n",
      "Epoch = 83, train accuracy = 95.19%, test accuracy = 97.78%\n",
      "Epoch = 84, train accuracy = 96.15%, test accuracy = 97.78%\n",
      "Epoch = 85, train accuracy = 96.15%, test accuracy = 97.78%\n",
      "Epoch = 86, train accuracy = 96.15%, test accuracy = 97.78%\n",
      "Epoch = 87, train accuracy = 96.15%, test accuracy = 97.78%\n",
      "Epoch = 88, train accuracy = 95.19%, test accuracy = 97.78%\n",
      "Epoch = 89, train accuracy = 96.15%, test accuracy = 97.78%\n",
      "Epoch = 90, train accuracy = 96.15%, test accuracy = 97.78%\n",
      "Epoch = 91, train accuracy = 96.15%, test accuracy = 97.78%\n",
      "Epoch = 92, train accuracy = 95.19%, test accuracy = 97.78%\n",
      "Epoch = 93, train accuracy = 96.15%, test accuracy = 97.78%\n",
      "Epoch = 94, train accuracy = 96.15%, test accuracy = 97.78%\n",
      "Epoch = 95, train accuracy = 96.15%, test accuracy = 97.78%\n",
      "Epoch = 96, train accuracy = 96.15%, test accuracy = 97.78%\n",
      "Epoch = 97, train accuracy = 95.19%, test accuracy = 95.56%\n",
      "Epoch = 98, train accuracy = 95.19%, test accuracy = 95.56%\n",
      "Epoch = 99, train accuracy = 96.15%, test accuracy = 97.78%\n",
      "Epoch = 100, train accuracy = 96.15%, test accuracy = 97.78%\n",
      "Time taken: 0:00:18.961314\n"
     ]
    }
   ],
   "source": [
    "init = tf.global_variables_initializer()\n",
    "\n",
    "from datetime import datetime\n",
    "startTime = datetime.now()\n",
    "\n",
    "with tf.Session() as sess:\n",
    "    sess.run(init)\n",
    "    \n",
    "    #writer.add_graph(sess.graph)\n",
    "    #EPOCHS\n",
    "    for epoch in range(training_epochs):\n",
    "        #Stochasting Gradient Descent\n",
    "        for i in range(len(X_train)):\n",
    "            summary = sess.run(train_op, feed_dict={X: X_train[i: i + 1], y: y_train[i: i + 1]})\n",
    "        \n",
    "        train_accuracy = np.mean(np.argmax(y_train, axis=1) == sess.run(ypredict, feed_dict={X: X_train, y: y_train}))\n",
    "        test_accuracy  = np.mean(np.argmax(y_test, axis=1) == sess.run(ypredict, feed_dict={X: X_test, y: y_test}))\n",
    "                \n",
    "        print(\"Epoch = %d, train accuracy = %.2f%%, test accuracy = %.2f%%\" % (epoch + 1, 100. * train_accuracy, 100. * test_accuracy))\n",
    "        #print(\"Epoch = %d, train accuracy = %.2f%%\" % (epoch + 1, 100. * train_accuracy))\n",
    "\n",
    "    sess.close()\n",
    "print(\"Time taken:\", datetime.now() - startTime)"
   ]
  },
  {
   "cell_type": "code",
   "execution_count": null,
   "metadata": {},
   "outputs": [],
   "source": []
  }
 ],
 "metadata": {
  "kernelspec": {
   "display_name": "Python 3",
   "language": "python",
   "name": "python3"
  },
  "language_info": {
   "codemirror_mode": {
    "name": "ipython",
    "version": 3
   },
   "file_extension": ".py",
   "mimetype": "text/x-python",
   "name": "python",
   "nbconvert_exporter": "python",
   "pygments_lexer": "ipython3",
   "version": "3.7.1"
  }
 },
 "nbformat": 4,
 "nbformat_minor": 2
}
